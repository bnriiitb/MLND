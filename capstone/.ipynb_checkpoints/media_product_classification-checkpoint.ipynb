{
 "cells": [
  {
   "cell_type": "markdown",
   "metadata": {},
   "source": [
    "## Capstone Project                                                                       : Machine Leanrning Nano Degree\n",
    "\n",
    "## Media Product Classification\n",
    "### by Nagaraju Budigam\n",
    "\n",
    "\n"
   ]
  },
  {
   "cell_type": "markdown",
   "metadata": {},
   "source": [
    "## Getting Started\n",
    "\n",
    "### Project Overview\n",
    "\n",
    "*Note: This is the original problem that I am developing at production level. Due to company compliance original datasets are not exposed, however the provided datasets are resembling the original datasets.*\n",
    "\n",
    "Indix hosts the world’s largest collection of programmatically accessible structured product information in the cloud. The products in our database belong to 25 verticals and that translates approximately to 6000 sub-categories. Every product that we carry in our database gets stamped with information about the “category” it belongs to. \n",
    "\n",
    "### Problem Statement\n",
    "\n",
    "Aim of this project is to classifying a product into a particular category, which is very important to serve various use cases – like, helping search, performing product matching, providing category specific insights, and so on. The problem of stamping every product in our catalogue into a category is a Multi Class Classification problem. In this submission I have built a micro version of this classifier where I will predict 4 classes."
   ]
  },
  {
   "cell_type": "markdown",
   "metadata": {},
   "source": [
    "## Exploring the Data"
   ]
  },
  {
   "cell_type": "code",
   "execution_count": 96,
   "metadata": {},
   "outputs": [
    {
     "data": {
      "text/html": [
       "<div>\n",
       "<style>\n",
       "    .dataframe thead tr:only-child th {\n",
       "        text-align: right;\n",
       "    }\n",
       "\n",
       "    .dataframe thead th {\n",
       "        text-align: left;\n",
       "    }\n",
       "\n",
       "    .dataframe tbody tr th {\n",
       "        vertical-align: top;\n",
       "    }\n",
       "</style>\n",
       "<table border=\"1\" class=\"dataframe\">\n",
       "  <thead>\n",
       "    <tr style=\"text-align: right;\">\n",
       "      <th></th>\n",
       "      <th>storeId</th>\n",
       "      <th>url</th>\n",
       "      <th>additionalAttributes</th>\n",
       "      <th>breadcrumbs</th>\n",
       "      <th>label</th>\n",
       "    </tr>\n",
       "  </thead>\n",
       "  <tbody>\n",
       "    <tr>\n",
       "      <th>0</th>\n",
       "      <td>23</td>\n",
       "      <td>http://www.walmart.com/ip/best-of-toto%3A-pian...</td>\n",
       "      <td>Contributed by=Toto;Format=Paperback;Number of...</td>\n",
       "      <td>books &gt; art music &amp; photography &gt; music</td>\n",
       "      <td>books</td>\n",
       "    </tr>\n",
       "    <tr>\n",
       "      <th>1</th>\n",
       "      <td>NaN</td>\n",
       "      <td>NaN</td>\n",
       "      <td>NaN</td>\n",
       "      <td>best buy &gt; computers &amp; tablets &gt; computer card...</td>\n",
       "      <td>rest</td>\n",
       "    </tr>\n",
       "    <tr>\n",
       "      <th>2</th>\n",
       "      <td>23</td>\n",
       "      <td>https://www.walmart.com/ip/34441317</td>\n",
       "      <td>NaN</td>\n",
       "      <td>music on cd or vinyl &gt; rock music on cd or vin...</td>\n",
       "      <td>music</td>\n",
       "    </tr>\n",
       "    <tr>\n",
       "      <th>3</th>\n",
       "      <td>26</td>\n",
       "      <td>https://www.overstock.com/Books-Movies-Music-G...</td>\n",
       "      <td>NaN</td>\n",
       "      <td>books &amp; media &gt; books &gt; cooking &amp; food books &gt;...</td>\n",
       "      <td>books</td>\n",
       "    </tr>\n",
       "    <tr>\n",
       "      <th>4</th>\n",
       "      <td>22</td>\n",
       "      <td>http://www.target.com/p/amore-version-ii/-/A-1...</td>\n",
       "      <td>NaN</td>\n",
       "      <td>target &gt; movies, music &amp; books &gt; music &gt; class...</td>\n",
       "      <td>music</td>\n",
       "    </tr>\n",
       "  </tbody>\n",
       "</table>\n",
       "</div>"
      ],
      "text/plain": [
       "  storeId                                                url  \\\n",
       "0      23  http://www.walmart.com/ip/best-of-toto%3A-pian...   \n",
       "1     NaN                                                NaN   \n",
       "2      23                https://www.walmart.com/ip/34441317   \n",
       "3      26  https://www.overstock.com/Books-Movies-Music-G...   \n",
       "4      22  http://www.target.com/p/amore-version-ii/-/A-1...   \n",
       "\n",
       "                                additionalAttributes  \\\n",
       "0  Contributed by=Toto;Format=Paperback;Number of...   \n",
       "1                                                NaN   \n",
       "2                                                NaN   \n",
       "3                                                NaN   \n",
       "4                                                NaN   \n",
       "\n",
       "                                         breadcrumbs  label  \n",
       "0            books > art music & photography > music  books  \n",
       "1  best buy > computers & tablets > computer card...   rest  \n",
       "2  music on cd or vinyl > rock music on cd or vin...  music  \n",
       "3  books & media > books > cooking & food books >...  books  \n",
       "4  target > movies, music & books > music > class...  music  "
      ]
     },
     "execution_count": 96,
     "metadata": {},
     "output_type": "execute_result"
    }
   ],
   "source": [
    "import pandas as pd\n",
    "import numpy as np\n",
    "%matplotlib inline\n",
    "\n",
    "#load the training data\n",
    "training_dataset=pd.read_csv('train.csv',encoding='ISO-8859-1')\n",
    "#show first few rows\n",
    "training_dataset.head()"
   ]
  },
  {
   "cell_type": "markdown",
   "metadata": {},
   "source": [
    "\n",
    "### Featureset Exploration:\n",
    "\n",
    "* **storeId** - a unique number for identifying a website, numerical data, discrete\n",
    "\n",
    "* **additionalAttributes**  - Product attribute related to a particular product. These are key, value pairs that can be found in tabular format as product information for most products in e-commerce websites. This is a categorical data.\n",
    "\n",
    "    * **An example of additionalAttributes** \n",
    "    \n",
    "    {\"ASIN\": \" B000JJRY9M\",\n",
    "    \n",
    "    \"Amazon Bestsellers Rank\": \" in DVD & Blu-ray (See Top 100 in DVD & Blu-ray)\",\n",
    "\n",
    "    \"Average Customer Review\": \" Be the first to review this item\",\n",
    "\n",
    "    \"Classification\": \" Exempt\",\n",
    "\n",
    "    \"DVD Release Date\": \" 26 Feb. 2007\",\n",
    "\n",
    "    \"Format\": \" AC-3, Colour, Dolby, DVD-Video, PAL\",\n",
    "    \n",
    "    \"Language\": \" English\",\n",
    "    \n",
    "    \"Number of discs\": \" 1\",\n",
    "    \n",
    "    \"Region\": \" Region 2 (This DVD may not be viewable outside Europe. Read more about\n",
    "    \n",
    "    DVD formats.)\",\n",
    "    \n",
    "    \"Run Time\": \" 287 minutes\",\n",
    "    \n",
    "    \"Studio\": \" Hip-O Records\"}\n",
    "    \n",
    "\n",
    "* **breadcrumbs** - breadcrumb captured at the page. Breadcrumbs typically appear horizontally across the top of a Web page, often below title bars or headers. This is a categorical data.\n",
    "\n",
    "    * **An example of breadcrumb**\n",
    "    subjects > travel > world regions > europe > european nations > france\n",
    "\n",
    "\n",
    "* **label** - The class to which a product belongs. Values belong to the finite set (‘books’,’music’,‘videos’,’rest’). This is a categorical data.\n",
    "\n",
    "    It is possible that for some products only one among (2) or (3) might be available.  It means that we may not have data for features 2 and 3 some times.\n",
    "\n",
    "    The problem statement is to classify the products into any one of the buckets\n",
    "(i) Books\n",
    "(ii) Music\n",
    "(iii) Videos\n",
    "(iv) Rest - A default class for products which doesn’t belong to (i),(ii) or (iii) category.\n"
   ]
  },
  {
   "cell_type": "markdown",
   "metadata": {},
   "source": [
    "### Data Visualization (before Preprocessing)"
   ]
  },
  {
   "cell_type": "code",
   "execution_count": 97,
   "metadata": {},
   "outputs": [
    {
     "data": {
      "text/plain": [
       "<matplotlib.axes._subplots.AxesSubplot at 0x11f9afda0>"
      ]
     },
     "execution_count": 97,
     "metadata": {},
     "output_type": "execute_result"
    },
    {
     "data": {
      "image/png": "[encoded data removed]",
      "text/plain": [
       "<matplotlib.figure.Figure at 0x11f7e2c88>"
      ]
     },
     "metadata": {},
     "output_type": "display_data"
    }
   ],
   "source": [
    "# plot pie chart to visualize the data\n",
    "training_dataset.label.value_counts().plot(kind='pie',figsize=(7,7),autopct='%1.1f',shadow=True,\n",
    "                               title='Data Visualization before Preprocessing',explode=(0.1,0,0,0),fontsize=15)"
   ]
  },
  {
   "cell_type": "code",
   "execution_count": 98,
   "metadata": {},
   "outputs": [
    {
     "name": "stdout",
     "output_type": "stream",
     "text": [
      "Features Description before Pre-processing\n"
     ]
    },
    {
     "data": {
      "text/html": [
       "<div>\n",
       "<style>\n",
       "    .dataframe thead tr:only-child th {\n",
       "        text-align: right;\n",
       "    }\n",
       "\n",
       "    .dataframe thead th {\n",
       "        text-align: left;\n",
       "    }\n",
       "\n",
       "    .dataframe tbody tr th {\n",
       "        vertical-align: top;\n",
       "    }\n",
       "</style>\n",
       "<table border=\"1\" class=\"dataframe\">\n",
       "  <thead>\n",
       "    <tr style=\"text-align: right;\">\n",
       "      <th></th>\n",
       "      <th>storeId</th>\n",
       "      <th>url</th>\n",
       "      <th>additionalAttributes</th>\n",
       "      <th>breadcrumbs</th>\n",
       "      <th>label</th>\n",
       "    </tr>\n",
       "  </thead>\n",
       "  <tbody>\n",
       "    <tr>\n",
       "      <th>count</th>\n",
       "      <td>1770</td>\n",
       "      <td>1094</td>\n",
       "      <td>772</td>\n",
       "      <td>4874</td>\n",
       "      <td>4896</td>\n",
       "    </tr>\n",
       "    <tr>\n",
       "      <th>unique</th>\n",
       "      <td>9</td>\n",
       "      <td>1094</td>\n",
       "      <td>771</td>\n",
       "      <td>2700</td>\n",
       "      <td>4</td>\n",
       "    </tr>\n",
       "    <tr>\n",
       "      <th>top</th>\n",
       "      <td>23</td>\n",
       "      <td>http://www.barnesandnoble.com/w/golfing-in-haw...</td>\n",
       "      <td>Country of Origin=United States</td>\n",
       "      <td>books</td>\n",
       "      <td>rest</td>\n",
       "    </tr>\n",
       "    <tr>\n",
       "      <th>freq</th>\n",
       "      <td>425</td>\n",
       "      <td>1</td>\n",
       "      <td>2</td>\n",
       "      <td>146</td>\n",
       "      <td>3126</td>\n",
       "    </tr>\n",
       "  </tbody>\n",
       "</table>\n",
       "</div>"
      ],
      "text/plain": [
       "       storeId                                                url  \\\n",
       "count     1770                                               1094   \n",
       "unique       9                                               1094   \n",
       "top         23  http://www.barnesandnoble.com/w/golfing-in-haw...   \n",
       "freq       425                                                  1   \n",
       "\n",
       "                   additionalAttributes breadcrumbs label  \n",
       "count                               772        4874  4896  \n",
       "unique                              771        2700     4  \n",
       "top     Country of Origin=United States       books  rest  \n",
       "freq                                  2         146  3126  "
      ]
     },
     "execution_count": 98,
     "metadata": {},
     "output_type": "execute_result"
    }
   ],
   "source": [
    "print('Features Description before Pre-processing')\n",
    "training_dataset.describe()"
   ]
  },
  {
   "cell_type": "markdown",
   "metadata": {},
   "source": [
    "## Feature Selection\n",
    "\n",
    "\n",
    "* From the data exploration, it is straight forward that store id, url and additional attribute features (most of these features are NaNs). Hence they don't contribute to predict the label of a product.\n",
    "\n",
    "\n",
    "*  I believe that, the feature breadcrumbs are right feature to choose to determine label of the unknown product."
   ]
  },
  {
   "cell_type": "code",
   "execution_count": 99,
   "metadata": {
    "collapsed": true
   },
   "outputs": [],
   "source": [
    "# Feature Selection\n",
    "#requuired colums breadcrumbs and lables\n",
    "final_col_list=['breadcrumbs','label']\n",
    "\n",
    "# now training_dataset has only breadcrumbs and lable columms\n",
    "training_dataset=training_dataset[final_col_list]"
   ]
  },
  {
   "cell_type": "markdown",
   "metadata": {},
   "source": [
    "\n",
    "\n",
    "## Data Pre-processing\n",
    "* In the data processing we drop all the null or NaN rows of breadcrumb and lable columns, we can ignore other columns they are not contributing to predict a label.\n",
    "\n",
    "\n",
    "* In the second step we remove all the duplicate rows by considering label and breadcrumb columns as they are our point of interest.\n",
    "\n",
    "\n",
    "* As the data of breadcrumb feature contains special characters, numbers, it would be wise to remove all such noise from the data, I have taken care of this step during the tokenization. "
   ]
  },
  {
   "cell_type": "code",
   "execution_count": 100,
   "metadata": {},
   "outputs": [
    {
     "name": "stdout",
     "output_type": "stream",
     "text": [
      "Original Dataset size :  4896\n",
      "Dataset size after noise removal:  4874\n",
      "Dataset size after duplcate removal:  2700\n",
      "Total noise removed from Training Dataset is :  2196\n"
     ]
    },
    {
     "data": {
      "text/html": [
       "<div>\n",
       "<style>\n",
       "    .dataframe thead tr:only-child th {\n",
       "        text-align: right;\n",
       "    }\n",
       "\n",
       "    .dataframe thead th {\n",
       "        text-align: left;\n",
       "    }\n",
       "\n",
       "    .dataframe tbody tr th {\n",
       "        vertical-align: top;\n",
       "    }\n",
       "</style>\n",
       "<table border=\"1\" class=\"dataframe\">\n",
       "  <thead>\n",
       "    <tr style=\"text-align: right;\">\n",
       "      <th></th>\n",
       "      <th>breadcrumbs</th>\n",
       "      <th>label</th>\n",
       "    </tr>\n",
       "  </thead>\n",
       "  <tbody>\n",
       "    <tr>\n",
       "      <th>0</th>\n",
       "      <td>books &gt; art music &amp; photography &gt; music</td>\n",
       "      <td>books</td>\n",
       "    </tr>\n",
       "    <tr>\n",
       "      <th>1</th>\n",
       "      <td>best buy &gt; computers &amp; tablets &gt; computer card...</td>\n",
       "      <td>rest</td>\n",
       "    </tr>\n",
       "    <tr>\n",
       "      <th>2</th>\n",
       "      <td>music on cd or vinyl &gt; rock music on cd or vin...</td>\n",
       "      <td>music</td>\n",
       "    </tr>\n",
       "    <tr>\n",
       "      <th>3</th>\n",
       "      <td>books &amp; media &gt; books &gt; cooking &amp; food books &gt;...</td>\n",
       "      <td>books</td>\n",
       "    </tr>\n",
       "    <tr>\n",
       "      <th>4</th>\n",
       "      <td>target &gt; movies, music &amp; books &gt; music &gt; class...</td>\n",
       "      <td>music</td>\n",
       "    </tr>\n",
       "  </tbody>\n",
       "</table>\n",
       "</div>"
      ],
      "text/plain": [
       "                                         breadcrumbs  label\n",
       "0            books > art music & photography > music  books\n",
       "1  best buy > computers & tablets > computer card...   rest\n",
       "2  music on cd or vinyl > rock music on cd or vin...  music\n",
       "3  books & media > books > cooking & food books >...  books\n",
       "4  target > movies, music & books > music > class...  music"
      ]
     },
     "execution_count": 100,
     "metadata": {},
     "output_type": "execute_result"
    }
   ],
   "source": [
    "original_size=training_dataset.shape[0]\n",
    "print('Original Dataset size : ',original_size)\n",
    "\n",
    "# Drop NaN rows, if any\n",
    "training_dataset.dropna(how='any',inplace=True)\n",
    "print('Dataset size after noise removal: ',training_dataset.shape[0])\n",
    "\n",
    "training_dataset.drop_duplicates(inplace=True)\n",
    "print('Dataset size after duplcate removal: ',training_dataset.shape[0])\n",
    "\n",
    "after_pp_size=training_dataset.shape[0]\n",
    "print('Total noise removed from Training Dataset is : ',original_size-after_pp_size)\n",
    "\n",
    "# show the first few rows of cleaned data set\n",
    "training_dataset.head()"
   ]
  },
  {
   "cell_type": "code",
   "execution_count": 101,
   "metadata": {},
   "outputs": [
    {
     "name": "stdout",
     "output_type": "stream",
     "text": [
      "Features Description after Preprocessing\n"
     ]
    },
    {
     "data": {
      "text/html": [
       "<div>\n",
       "<style>\n",
       "    .dataframe thead tr:only-child th {\n",
       "        text-align: right;\n",
       "    }\n",
       "\n",
       "    .dataframe thead th {\n",
       "        text-align: left;\n",
       "    }\n",
       "\n",
       "    .dataframe tbody tr th {\n",
       "        vertical-align: top;\n",
       "    }\n",
       "</style>\n",
       "<table border=\"1\" class=\"dataframe\">\n",
       "  <thead>\n",
       "    <tr style=\"text-align: right;\">\n",
       "      <th></th>\n",
       "      <th>breadcrumbs</th>\n",
       "      <th>label</th>\n",
       "    </tr>\n",
       "  </thead>\n",
       "  <tbody>\n",
       "    <tr>\n",
       "      <th>count</th>\n",
       "      <td>2700</td>\n",
       "      <td>2700</td>\n",
       "    </tr>\n",
       "    <tr>\n",
       "      <th>unique</th>\n",
       "      <td>2700</td>\n",
       "      <td>4</td>\n",
       "    </tr>\n",
       "    <tr>\n",
       "      <th>top</th>\n",
       "      <td>car</td>\n",
       "      <td>rest</td>\n",
       "    </tr>\n",
       "    <tr>\n",
       "      <th>freq</th>\n",
       "      <td>1</td>\n",
       "      <td>1921</td>\n",
       "    </tr>\n",
       "  </tbody>\n",
       "</table>\n",
       "</div>"
      ],
      "text/plain": [
       "       breadcrumbs label\n",
       "count         2700  2700\n",
       "unique        2700     4\n",
       "top            car  rest\n",
       "freq             1  1921"
      ]
     },
     "execution_count": 101,
     "metadata": {},
     "output_type": "execute_result"
    }
   ],
   "source": [
    "print('Features Description after Preprocessing')\n",
    "training_dataset.describe()"
   ]
  },
  {
   "cell_type": "markdown",
   "metadata": {},
   "source": [
    "### Data Visualization (after Preprocessing)"
   ]
  },
  {
   "cell_type": "code",
   "execution_count": 71,
   "metadata": {},
   "outputs": [
    {
     "data": {
      "text/plain": [
       "<matplotlib.axes._subplots.AxesSubplot at 0x11a820358>"
      ]
     },
     "execution_count": 71,
     "metadata": {},
     "output_type": "execute_result"
    },
    {
     "data": {
      "image/png": "[encoded data removed]",
      "text/plain": [
       "<matplotlib.figure.Figure at 0x1188ba128>"
      ]
     },
     "metadata": {},
     "output_type": "display_data"
    }
   ],
   "source": [
    "# plot pie chart to visualize the data\n",
    "training_dataset.label.value_counts().plot(kind='pie',figsize=(7,7),autopct='%1.1f',shadow=True,\n",
    "                               title='The Pie Chart Visualization',explode=(0.1,0,0,0),fontsize=15)"
   ]
  },
  {
   "cell_type": "markdown",
   "metadata": {},
   "source": [
    "## Feature Transformation\n",
    "\n",
    "\n",
    "* As we are dealing with the text or categorical data it is a rule of thumb to transform all such data into numerical form so we can feed it into the machine learning algorithms, as they work only on numerical inputs.\n",
    "\n",
    "\n",
    "* We use **CountVectorizer** of sklearn machine learning library, where it construct a **Document Term Matrix** and construct **Bag of Words** for the input data.\n",
    "\n",
    "\n",
    "* After transforming the breadcrumb data we have to transform the labels of each category to a numerical form, We achieve this by using the **Label Encoder** module of sklearn.\n"
   ]
  },
  {
   "cell_type": "code",
   "execution_count": 102,
   "metadata": {},
   "outputs": [
    {
     "data": {
      "text/html": [
       "<div>\n",
       "<style>\n",
       "    .dataframe thead tr:only-child th {\n",
       "        text-align: right;\n",
       "    }\n",
       "\n",
       "    .dataframe thead th {\n",
       "        text-align: left;\n",
       "    }\n",
       "\n",
       "    .dataframe tbody tr th {\n",
       "        vertical-align: top;\n",
       "    }\n",
       "</style>\n",
       "<table border=\"1\" class=\"dataframe\">\n",
       "  <thead>\n",
       "    <tr style=\"text-align: right;\">\n",
       "      <th></th>\n",
       "      <th>breadcrumbs</th>\n",
       "      <th>label</th>\n",
       "    </tr>\n",
       "  </thead>\n",
       "  <tbody>\n",
       "    <tr>\n",
       "      <th>0</th>\n",
       "      <td>books &gt; art music &amp; photography &gt; music</td>\n",
       "      <td>0</td>\n",
       "    </tr>\n",
       "    <tr>\n",
       "      <th>1</th>\n",
       "      <td>best buy &gt; computers &amp; tablets &gt; computer card...</td>\n",
       "      <td>2</td>\n",
       "    </tr>\n",
       "    <tr>\n",
       "      <th>2</th>\n",
       "      <td>music on cd or vinyl &gt; rock music on cd or vin...</td>\n",
       "      <td>1</td>\n",
       "    </tr>\n",
       "    <tr>\n",
       "      <th>3</th>\n",
       "      <td>books &amp; media &gt; books &gt; cooking &amp; food books &gt;...</td>\n",
       "      <td>0</td>\n",
       "    </tr>\n",
       "    <tr>\n",
       "      <th>4</th>\n",
       "      <td>target &gt; movies, music &amp; books &gt; music &gt; class...</td>\n",
       "      <td>1</td>\n",
       "    </tr>\n",
       "  </tbody>\n",
       "</table>\n",
       "</div>"
      ],
      "text/plain": [
       "                                         breadcrumbs  label\n",
       "0            books > art music & photography > music      0\n",
       "1  best buy > computers & tablets > computer card...      2\n",
       "2  music on cd or vinyl > rock music on cd or vin...      1\n",
       "3  books & media > books > cooking & food books >...      0\n",
       "4  target > movies, music & books > music > class...      1"
      ]
     },
     "execution_count": 102,
     "metadata": {},
     "output_type": "execute_result"
    }
   ],
   "source": [
    "import nltk\n",
    "import string\n",
    "\n",
    "def tokenize(sentence):\n",
    "    sentence=sentence.translate(str.maketrans('','',string.punctuation))\n",
    "    tokens=nltk.word_tokenize(sentence)\n",
    "    return tokens\n",
    "\n",
    "# Encode or Transform the categorial labels into numrical values\n",
    "from sklearn import preprocessing\n",
    "le = preprocessing.LabelEncoder()\n",
    "le.fit(training_dataset.label)\n",
    "training_dataset.label=le.transform(training_dataset.label) \n",
    "\n",
    "# show first few lines after encoding labels\n",
    "training_dataset.head()"
   ]
  },
  {
   "cell_type": "markdown",
   "metadata": {},
   "source": [
    "## Training and Testing Data Split\n",
    "\n",
    "As it is a rule of thumb to split the original input data set into training and testing data sets, where training dataset size should be 80% of the original data and testing dataset size would be remaining 20%.\n"
   ]
  },
  {
   "cell_type": "code",
   "execution_count": 103,
   "metadata": {},
   "outputs": [
    {
     "name": "stdout",
     "output_type": "stream",
     "text": [
      "Training set has 2160 samples.\n",
      "Testing set has  540  samples.\n"
     ]
    }
   ],
   "source": [
    "from sklearn.model_selection import train_test_split\n",
    "\n",
    "#Divide the data into trainign and test sets\n",
    "X_train, X_test, y_train, y_test = train_test_split(training_dataset.breadcrumbs, \n",
    "                                                    training_dataset.label, \n",
    "                                                    test_size = 0.2, \n",
    "                                                    random_state = 0)\n",
    "\n",
    "# Show the results of the split\n",
    "print ('Training set has',X_train.shape[0],'samples.')\n",
    "print (\"Testing set has \",X_test.shape[0],\" samples.\")"
   ]
  },
  {
   "cell_type": "markdown",
   "metadata": {},
   "source": [
    "## Transform the Categorical data into Numerical Form\n",
    "\n",
    "* Construct a Document Term Matrix and Bag of Words Model for the input data."
   ]
  },
  {
   "cell_type": "code",
   "execution_count": 104,
   "metadata": {
    "collapsed": true
   },
   "outputs": [],
   "source": [
    "from sklearn.feature_extraction.text import CountVectorizer\n",
    "count_vec=CountVectorizer(tokenizer=tokenize)\n",
    "X_train=count_vec.fit_transform(X_train) # traiing data\n",
    "X_test=count_vec.transform(X_test) # test data"
   ]
  },
  {
   "cell_type": "markdown",
   "metadata": {},
   "source": [
    "## Evaluation Criteria\n",
    "\n",
    "### Accuracy:\n",
    "\n",
    "When we want to evaluate a set of predicted labels or performance of Machine Learning models we use different performance measures. Accuracy, Precision, Recall, F-beta (usually people use F-1) or etc. But none of the afore mentioned methods except Accuracy work for Multi-class data where class labels tend to have more than two (binary) different values.\n",
    "\n",
    "#### Accuracy = true positives + true negatives/dataset size\n",
    "\n",
    "Well, Accuracy is calculated as the portion of true labelled instances to total number of instances. The questions are what is wrong with accuracy that we need other performance measures? The problem is that in some datasets we can achieve high accuracy with weak models such as a dummy classifier to classify instances with the most frequent label. In cases such as outlier detection or in any dataset that a large portion of samples are of one class label the dummy classifier can achieve a high accuracy such as 80%(in cases that 80% of data are of the majority class label). This is while stronger models may even have lower accuracy. This is called the Accuracy Paradox. Hence, we usually prefer to use other performance measures such as Precision, Recall, F-measure or etc.\n",
    "\n",
    "Hence I feel that accuracy is not enough and we need a report of classifier about the precision and recall that can better understood through f-beta score.\n",
    "\n",
    "### F-beta Score:\n",
    "* F-beta score treats both precision and recall with same importance, when beta=1, let’s say we need model which care a bit more about precision than recall, then we want something more skewed towards precision.\n",
    "* Smaller the beta the model more skewed towards precision.\n",
    "* Larger the beta the model more skewed towards recall.\n",
    "* Note: Finding a good value of beta requires a lot of intuition of data and a lot of experimentation.\n",
    "\n",
    "\n",
    "\n",
    "##### So, I would like to use accuracy and f-beta score as an evaluation metrics to access the performance of the classifier. I would like to use the beta value as 0.5, so my classifier is a bit skewed towards the precision."
   ]
  },
  {
   "cell_type": "markdown",
   "metadata": {},
   "source": [
    "## Algorithms and Techniques:\n",
    "\n",
    "As per the project problem statement, it is clear that we need to employ the Supervised Machine Learning Algorithms for predicting label of unknown product label. So, I would like to try with the following algorithms and based on the performance metrics mentioned above, would like to pick the best one.\n",
    "\n",
    "* **Multi Nomial Naive Bayes**: \n",
    "    * Super simple, a Naive Bayes classifier will converge quicker than discriminative models like logistic regression, so we need less training data. And even if the NB assumption doesn't hold, a NB classifier still often performs surprisingly well in practice. \n",
    "\n",
    "\n",
    "* **Decision Trees**: \n",
    "    * Easy to interpret and explain. Non-parametric, so we don't have to worry about outliers or whether the data is linearly separable (e.g., decision trees easily take care of cases where you have class A at the low end of some feature x, class B in the mid-range of feature x, and A again at the high end). \n",
    "\n",
    "    \n",
    "* **SVMs**: \n",
    "    * High accuracy, nice theoretical guarantees regarding overfitting, and with an appropriate kernel they can work well even if you're data isn't linearly separable in the base feature space. Especially popular in text classification problems where very high-dimensional spaces are the norm. Memory-intensive and kind of annoying to run and tune, though, so I think random forests are starting to steal the crown.\n",
    "\n",
    "For all the above mentioned algorithms we feed in a vector constructed usning Bag of Words of Model of the training dataset.\n",
    "\n"
   ]
  },
  {
   "cell_type": "markdown",
   "metadata": {},
   "source": [
    "## Creating a Training and Predicting Pipeline"
   ]
  },
  {
   "cell_type": "code",
   "execution_count": 105,
   "metadata": {
    "collapsed": true
   },
   "outputs": [],
   "source": [
    "import warnings\n",
    "warnings.filterwarnings(\"ignore\", category = UserWarning, module = \"matplotlib\")\n",
    "from IPython import get_ipython\n",
    "get_ipython().run_line_magic('matplotlib', 'inline')\n",
    "\n",
    "import matplotlib.pyplot as pl\n",
    "import matplotlib.patches as mpatches\n",
    "import numpy as np\n",
    "import pandas as pd\n",
    "from time import time\n",
    "from sklearn.metrics import f1_score, accuracy_score\n",
    "from sklearn.metrics import fbeta_score\n",
    "from sklearn.metrics import accuracy_score\n",
    "\n",
    "def train_predict(learner, sample_size, X_train, y_train, X_test, y_test,verbose): \n",
    "    results = {}\n",
    "    training_start = time()\n",
    "    learner.fit(X_train[:sample_size],y_train[:sample_size])\n",
    "    training_end = time() \n",
    "    results['train_time'] = training_end-training_start\n",
    "    start = time()\n",
    "    predictions_test = learner.predict(X_test)\n",
    "    predictions_train = learner.predict(X_train[:sample_size])\n",
    "    end = time()\n",
    "    results['pred_time'] = end-start\n",
    "    results['acc_train'] = accuracy_score(y_train[:sample_size], predictions_train[:sample_size])\n",
    "    results['acc_test'] = accuracy_score(y_test, predictions_test)\n",
    "    results['f_train'] = fbeta_score(y_train[:sample_size], predictions_train[:sample_size], beta=0.5,average='macro')\n",
    "    results['f_test'] = fbeta_score(y_test, predictions_test, beta=0.5,average='macro')\n",
    "    # Success\n",
    "    if(verbose):\n",
    "        print (\"{} trained on {} samples with accuracy {} and fbeta score {}%\".\n",
    "               format(learner.__class__.__name__, sample_size,(100.0*results['acc_test']),(results['f_test'])))\n",
    "        #print (results)\n",
    "    return results\n",
    "\n",
    "def evaluate(results):\n",
    "    fig, ax = pl.subplots(2, 3, figsize = (20,8))\n",
    "    bar_width = 0.19\n",
    "    colors = ['#F55826','#00A0A0','#E5B506','#284ABC','#59A857']\n",
    "    for k, learner in enumerate(results.keys()):\n",
    "        for j, metric in enumerate(['train_time', 'acc_train', 'f_train', 'pred_time', 'acc_test', 'f_test']):\n",
    "            for i in np.arange(3):\n",
    "                ax[j//3, j%3].bar(i+k*bar_width, results[learner][i][metric], width = bar_width, color = colors[k])\n",
    "                ax[j//3, j%3].set_xticks([0.45, 1.45, 2.45])\n",
    "                ax[j//3, j%3].set_xticklabels([\"1%\", \"10%\", \"100%\"])\n",
    "                ax[j//3, j%3].set_xlabel(\"Training Set Size\")\n",
    "                ax[j//3, j%3].set_xlim((-0.1, 3.0))\n",
    "    \n",
    "    # Add unique y-labels\n",
    "    ax[0, 0].set_ylabel(\"Time (in seconds)\")\n",
    "    ax[0, 1].set_ylabel(\"Accuracy Score\")\n",
    "    ax[0, 2].set_ylabel(\"F-score\")\n",
    "    ax[1, 0].set_ylabel(\"Time (in seconds)\")\n",
    "    ax[1, 1].set_ylabel(\"Accuracy Score\")\n",
    "    ax[1, 2].set_ylabel(\"F-score\")\n",
    "    \n",
    "    # Add titles\n",
    "    ax[0, 0].set_title(\"Model Training Time\")\n",
    "    ax[0, 1].set_title(\"Accuracy Score on Training Subset\")\n",
    "    ax[0, 2].set_title(\"F-score on Training Subset\")\n",
    "    ax[1, 0].set_title(\"Model Prediction Time\")\n",
    "    ax[1, 1].set_title(\"Accuracy Score on Testing Set\")\n",
    "    ax[1, 2].set_title(\"F-score on Testing Set\")\n",
    "    \n",
    "    # Set y-limits for score panels\n",
    "    ax[0, 1].set_ylim((0, 1))\n",
    "    ax[0, 2].set_ylim((0, 1))\n",
    "    ax[1, 1].set_ylim((0, 1))\n",
    "    ax[1, 2].set_ylim((0, 1))\n",
    "\n",
    "    # Create patches for the legend\n",
    "    patches = []\n",
    "    for i, learner in enumerate(results.keys()):\n",
    "        patches.append(mpatches.Patch(color = colors[i], label = learner))\n",
    "    pl.legend(handles = patches, bbox_to_anchor = (-.80, 2.55), \\\n",
    "               loc = 'upper center', borderaxespad = 0., ncol = 3, fontsize = 'x-large')\n",
    "    \n",
    "    # Aesthetics\n",
    "    pl.suptitle(\"Performance Metrics of Supervised Learning Models\", fontsize = 18, y = 1.10)\n",
    "    pl.tight_layout()\n",
    "    pl.show()\n",
    "    \n",
    "final_results={}\n",
    "def metrics_visualization(clfs,verbose):\n",
    "    results = {}\n",
    "    samples_100 = len(y_train)\n",
    "    samples_10 = int((samples_100*0.1))\n",
    "    samples_1 = int((samples_100*0.01))\n",
    "    for clf in clfs:\n",
    "        clf_name = clf.__class__.__name__\n",
    "        results[clf_name] = {}\n",
    "        final_results[clf_name] = {}\n",
    "        for i, samples in enumerate([samples_1, samples_10, samples_100]):\n",
    "            results[clf_name][i] = \\\n",
    "            train_predict(clf, samples, X_train, y_train, X_test, y_test,verbose)\n",
    "            final_results[clf_name][i]= results[clf_name][i]\n",
    "\n",
    "    evaluate(results)    "
   ]
  },
  {
   "cell_type": "markdown",
   "metadata": {},
   "source": [
    "## Initial Model Evaluation\n",
    "\n",
    "\n",
    "Once we perform data pre-processing and transform, we try to fit above mentioned classification models and check which is performing good on the given dataset. You could see the performance metrics of various models fit on the 10%, 50% and 100% of dataset.\n",
    "\n",
    "\n",
    "\n",
    "* I would like to use accuracy and f-beta score as an evaluation metrics to assess the performance of the classifier.\n",
    "\n",
    "* As the dataset is unbalanced I would like to use f-beta score as the another evaluation metric, with beta being 0.5.\n",
    "\n"
   ]
  },
  {
   "cell_type": "code",
   "execution_count": 113,
   "metadata": {
    "scrolled": true
   },
   "outputs": [
    {
     "name": "stdout",
     "output_type": "stream",
     "text": [
      "DecisionTreeClassifier trained on 21 samples with accuracy 82.96296296296296 and fbeta score 0.6157155191791366%\n",
      "DecisionTreeClassifier trained on 216 samples with accuracy 93.51851851851852 and fbeta score 0.9032324637168456%\n",
      "DecisionTreeClassifier trained on 2160 samples with accuracy 96.85185185185186 and fbeta score 0.9778483506374877%\n",
      "RandomForestClassifier trained on 21 samples with accuracy 83.88888888888889 and fbeta score 0.7053527789558807%\n",
      "RandomForestClassifier trained on 216 samples with accuracy 91.85185185185185 and fbeta score 0.8461372218269347%\n",
      "RandomForestClassifier trained on 2160 samples with accuracy 96.48148148148148 and fbeta score 0.972400420185244%\n",
      "MultinomialNB trained on 21 samples with accuracy 90.37037037037037 and fbeta score 0.8722092961424761%\n",
      "MultinomialNB trained on 216 samples with accuracy 94.44444444444444 and fbeta score 0.9283887043849008%\n",
      "MultinomialNB trained on 2160 samples with accuracy 96.66666666666667 and fbeta score 0.9681823473598671%\n",
      "SVC trained on 21 samples with accuracy 72.77777777777777 and fbeta score 0.3758048271554607%\n",
      "SVC trained on 216 samples with accuracy 84.81481481481481 and fbeta score 0.794542706302229%\n",
      "SVC trained on 2160 samples with accuracy 96.11111111111111 and fbeta score 0.9718105518410396%\n"
     ]
    },
    {
     "data": {
      "image/png": "[encoded data removed]",
      "text/plain": [
       "<matplotlib.figure.Figure at 0x11f8bfe10>"
      ]
     },
     "metadata": {},
     "output_type": "display_data"
    }
   ],
   "source": [
    "import warnings\n",
    "warnings.filterwarnings(\"ignore\", category = UserWarning, module = \"sklearn\")\n",
    "from sklearn.tree import DecisionTreeClassifier\n",
    "from sklearn.svm import SVC\n",
    "from sklearn.ensemble import RandomForestClassifier\n",
    "from sklearn.naive_bayes import MultinomialNB\n",
    "import math\n",
    "\n",
    "classifiers=[\n",
    "DecisionTreeClassifier(random_state=1),\n",
    "RandomForestClassifier(random_state=1),\n",
    "MultinomialNB(),\n",
    "SVC(kernel=\"linear\", C=0.025)]\n",
    "\n",
    "metrics_visualization(classifiers[:5],verbose=True)"
   ]
  },
  {
   "cell_type": "markdown",
   "metadata": {},
   "source": [
    "## Hyper Parameter Tuning\n",
    "\n",
    "* By taking the models accuracy and f-beta score into consideration, I have selected Decision Tree Classifier is the right fit for my problem. \n",
    "\n",
    "\n",
    "* So, by using gird search I have performed the hyper parameter tuning to get the best parameter combination of the model.\n",
    "\n",
    "\n",
    "* It is noticed that even after taking the best parameter combination returned by grid search, the accuracy and f-beta scores of the optimized model is not improved, however by using Decision Tree Classifier I could achieve 96.87% accuracy and 0.977 f-beta score.\n"
   ]
  },
  {
   "cell_type": "code",
   "execution_count": 108,
   "metadata": {},
   "outputs": [
    {
     "name": "stdout",
     "output_type": "stream",
     "text": [
      "Unoptimized model\n",
      "------\n",
      "Accuracy score on testing data: 0.9685\n",
      "F-score on testing data: 0.9778\n",
      "\n",
      "Optimized Model\n",
      "------\n",
      "Final accuracy score on the testing data: 0.9833\n",
      "Final F-score on the testing data: 0.9772\n"
     ]
    }
   ],
   "source": [
    "import warnings\n",
    "warnings.filterwarnings(\"ignore\", category = UserWarning, module = \"sklearn\")\n",
    "from sklearn.grid_search import GridSearchCV\n",
    "from sklearn.metrics import make_scorer\n",
    "from sklearn.tree import DecisionTreeClassifier\n",
    "from sklearn.metrics import f1_score, accuracy_score\n",
    "from sklearn.metrics import fbeta_score\n",
    "from sklearn.metrics import accuracy_score\n",
    "\n",
    "#Initialize the classifier\n",
    "clf = DecisionTreeClassifier(random_state=1)\n",
    "\n",
    "parameters = {\"criterion\": [\"gini\", \"entropy\"],\n",
    "              \"min_samples_split\": [2,3],\n",
    "              \"max_depth\": [None, 2,3,4,5]\n",
    "              }\n",
    "\n",
    "scorer = make_scorer(fbeta_score,beta=0.5,average='macro')\n",
    "grid_obj = GridSearchCV(clf,parameters,scoring=scorer)\n",
    "grid_fit = grid_obj.fit(X_train,y_train)\n",
    "\n",
    "# Get the estimator\n",
    "best_clf = grid_fit.best_estimator_\n",
    "\n",
    "# Make predictions using the unoptimized and model\n",
    "predictions = (clf.fit(X_train, y_train)).predict(X_test)\n",
    "best_predictions = best_clf.predict(X_test)\n",
    "\n",
    "# Report the before-and-afterscores\n",
    "print (\"Unoptimized model\\n------\")\n",
    "print (\"Accuracy score on testing data: {:.4f}\".format(accuracy_score(y_test, predictions)))\n",
    "print (\"F-score on testing data: {:.4f}\".format(fbeta_score(y_test, predictions,beta = 0.5,average='macro')))\n",
    "print (\"\\nOptimized Model\\n------\")\n",
    "print (\"Final accuracy score on the testing data: {:.4f}\".format(accuracy_score(y_test, best_predictions)))\n",
    "print (\"Final F-score on the testing data: {:.4f}\".format(fbeta_score(y_test, best_predictions,beta = 0.5,average='macro')))"
   ]
  },
  {
   "cell_type": "markdown",
   "metadata": {},
   "source": [
    "## Final Model Selection\n",
    "\n",
    "#### Unoptimized model\n",
    "* Accuracy score on testing data: 0.9685\n",
    "* F-score on testing data: 0.9778\n",
    "\n",
    "#### Optimized Model\n",
    "* Final accuracy score on the testing data: 0.9833\n",
    "* Final F-score on the testing data: 0.9772\n",
    "\n",
    "We could see the significant improvement in the accuracy of the classifier after the grid search and now we've got the best parameters combination to build the final model. \n",
    "\n"
   ]
  },
  {
   "cell_type": "code",
   "execution_count": 109,
   "metadata": {},
   "outputs": [
    {
     "name": "stdout",
     "output_type": "stream",
     "text": [
      "The best Parameter combination for the Final Model.\n"
     ]
    },
    {
     "data": {
      "text/plain": [
       "{'class_weight': None,\n",
       " 'criterion': 'entropy',\n",
       " 'max_depth': None,\n",
       " 'max_features': None,\n",
       " 'max_leaf_nodes': None,\n",
       " 'min_impurity_decrease': 0.0,\n",
       " 'min_impurity_split': None,\n",
       " 'min_samples_leaf': 1,\n",
       " 'min_samples_split': 2,\n",
       " 'min_weight_fraction_leaf': 0.0,\n",
       " 'presort': False,\n",
       " 'random_state': 1,\n",
       " 'splitter': 'best'}"
      ]
     },
     "execution_count": 109,
     "metadata": {},
     "output_type": "execute_result"
    }
   ],
   "source": [
    "print('The best Parameter combination for the Final Model.')\n",
    "best_clf.get_params()"
   ]
  },
  {
   "cell_type": "markdown",
   "metadata": {},
   "source": [
    "## Final Model Training\n",
    "\n",
    "Train the final model by usng best paremeter combination as mentioned above."
   ]
  },
  {
   "cell_type": "code",
   "execution_count": 110,
   "metadata": {},
   "outputs": [
    {
     "name": "stdout",
     "output_type": "stream",
     "text": [
      "Training the Final Model started\n",
      "Training the Final Model completed\n"
     ]
    }
   ],
   "source": [
    "from sklearn.tree import DecisionTreeClassifier\n",
    "print('Training the Final Model started')\n",
    "clf = DecisionTreeClassifier(class_weight=None,\n",
    " criterion='entropy',\n",
    " max_depth=None,\n",
    " max_features=None,\n",
    " max_leaf_nodes=None,\n",
    " min_impurity_decrease=0.0,\n",
    " min_impurity_split=None,\n",
    " min_samples_leaf=1,\n",
    " min_samples_split=2,\n",
    " min_weight_fraction_leaf=0.0,\n",
    " presort=False,\n",
    " random_state=1,\n",
    " splitter='best')\n",
    "clf.fit(X_train, y_train)\n",
    "print('Training the Final Model completed')"
   ]
  },
  {
   "cell_type": "markdown",
   "metadata": {},
   "source": [
    "## Predict using Final Model"
   ]
  },
  {
   "cell_type": "code",
   "execution_count": 111,
   "metadata": {},
   "outputs": [
    {
     "name": "stdout",
     "output_type": "stream",
     "text": [
      "Original test dataset size  4517\n",
      "Test dataset size after droping NaNs  4508\n",
      "Test dataset size after droping duplicates  2669\n",
      "Transforming Categorica Data to Numerical started\n",
      "Transforming Categorica Data to Numerical completed\n",
      "Performing Prediction testdataset started\n",
      "Performing Prediction testdataset completed\n",
      "Writing Predicted output to the file predicted_output.csv started\n",
      "Wrote predicted output to the file predicted_output.csv Sucessfully!!!\n"
     ]
    },
    {
     "data": {
      "text/plain": [
       "<matplotlib.axes._subplots.AxesSubplot at 0x11f6e6e10>"
      ]
     },
     "execution_count": 111,
     "metadata": {},
     "output_type": "execute_result"
    },
    {
     "data": {
      "image/png": "[encoded data removed]",
      "text/plain": [
       "<matplotlib.figure.Figure at 0x11fc6db70>"
      ]
     },
     "metadata": {},
     "output_type": "display_data"
    }
   ],
   "source": [
    "# Load the test dataset\n",
    "test_dataset=pd.read_csv('evaluation.csv',encoding='ISO-8859-1')\n",
    "test_dataset.head()\n",
    "print('Original test dataset size ', test_dataset.shape[0])\n",
    "test_dataset.dropna(subset=['breadcrumbs'],inplace=True)\n",
    "print('Test dataset size after droping NaNs ', test_dataset.shape[0])\n",
    "test_dataset.drop_duplicates(subset=['breadcrumbs'],inplace=True)\n",
    "print('Test dataset size after droping duplicates ', test_dataset.shape[0])\n",
    "\n",
    "print('Transforming Categorica Data to Numerical started')\n",
    "testset_tran=count_vec.transform(test_dataset.breadcrumbs)\n",
    "print('Transforming Categorica Data to Numerical completed')\n",
    "\n",
    "print('Performing Prediction testdataset started')\n",
    "predicted_lables=clf.predict(testset_tran)\n",
    "print('Performing Prediction testdataset completed')\n",
    "\n",
    "test_dataset['predicted_lables']=le.inverse_transform(predicted_lables)\n",
    "print('Writing Predicted output to the file predicted_output.csv started')\n",
    "test_dataset.to_csv('predicted_output.csv')\n",
    "print('Wrote predicted output to the file predicted_output.csv Sucessfully!!!')\n",
    "\n",
    "test_dataset.predicted_lables.value_counts().plot(kind='pie',figsize=(7,7),autopct='%1.1f',shadow=True,\n",
    "                               title='The Pie Chart Visualization of Predicted Data',explode=(0.1,0,0,0),fontsize=15)"
   ]
  }
 ],
 "metadata": {
  "kernelspec": {
   "display_name": "Python 3",
   "language": "python",
   "name": "python3"
  },
  "language_info": {
   "codemirror_mode": {
    "name": "ipython",
    "version": 3
   },
   "file_extension": ".py",
   "mimetype": "text/x-python",
   "name": "python",
   "nbconvert_exporter": "python",
   "pygments_lexer": "ipython3",
   "version": "3.6.1"
  }
 },
 "nbformat": 4,
 "nbformat_minor": 2
}
