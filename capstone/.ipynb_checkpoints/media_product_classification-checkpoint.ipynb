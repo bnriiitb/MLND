{
 "cells": [
  {
   "cell_type": "markdown",
   "metadata": {},
   "source": [
    "## Capstone Project                                                                       : Machine Leanrning Nano Degree\n",
    "\n",
    "## Media Product Classification\n",
    "### by Nagaraju Budigam\n",
    "\n",
    "\n"
   ]
  },
  {
   "cell_type": "markdown",
   "metadata": {},
   "source": [
    "### Project Overview\n",
    "\n",
    "> Note: This is the original problem that I am developing at production level. Due to company compliance original datasets were not exposed, the provided datasets are resembling the original datasets.\n",
    "\n",
    "> Indix hosts the world’s largest collection of programmatically accessible structured product information in the cloud. The products in our database belong to 25 verticals and that translates approximately to 6000 sub-categories. Every product that we carry in our database gets stamped with information about the “category” it belongs to. \n"
   ]
  },
  {
   "cell_type": "markdown",
   "metadata": {},
   "source": [
    "### Problem Statement\n",
    "\n",
    "> Aim of the problem is to classifying a product into a particular category is very important to serve various use cases – like, helping search, performing product matching, providing category specific insights, and so on. The problem of stamping every product in our catalogue into a category is a Multi Label Hierarchical Classification problem. Your challenge is to build a micro version of this classifier where you will predict 4 classes.\n"
   ]
  },
  {
   "cell_type": "markdown",
   "metadata": {},
   "source": [
    "# Load the Data"
   ]
  },
  {
   "cell_type": "code",
   "execution_count": 2,
   "metadata": {},
   "outputs": [
    {
     "data": {
      "text/html": [
       "<div>\n",
       "<style>\n",
       "    .dataframe thead tr:only-child th {\n",
       "        text-align: right;\n",
       "    }\n",
       "\n",
       "    .dataframe thead th {\n",
       "        text-align: left;\n",
       "    }\n",
       "\n",
       "    .dataframe tbody tr th {\n",
       "        vertical-align: top;\n",
       "    }\n",
       "</style>\n",
       "<table border=\"1\" class=\"dataframe\">\n",
       "  <thead>\n",
       "    <tr style=\"text-align: right;\">\n",
       "      <th></th>\n",
       "      <th>storeId</th>\n",
       "      <th>url</th>\n",
       "      <th>additionalAttributes</th>\n",
       "      <th>breadcrumbs</th>\n",
       "      <th>label</th>\n",
       "    </tr>\n",
       "  </thead>\n",
       "  <tbody>\n",
       "    <tr>\n",
       "      <th>0</th>\n",
       "      <td>23</td>\n",
       "      <td>http://www.walmart.com/ip/best-of-toto%3A-pian...</td>\n",
       "      <td>Contributed by=Toto;Format=Paperback;Number of...</td>\n",
       "      <td>books &gt; art music &amp; photography &gt; music</td>\n",
       "      <td>books</td>\n",
       "    </tr>\n",
       "    <tr>\n",
       "      <th>1</th>\n",
       "      <td>NaN</td>\n",
       "      <td>NaN</td>\n",
       "      <td>NaN</td>\n",
       "      <td>best buy &gt; computers &amp; tablets &gt; computer card...</td>\n",
       "      <td>rest</td>\n",
       "    </tr>\n",
       "    <tr>\n",
       "      <th>2</th>\n",
       "      <td>23</td>\n",
       "      <td>https://www.walmart.com/ip/34441317</td>\n",
       "      <td>Performer=Cult Of Youth;Record Label=Vinyl;1.=...</td>\n",
       "      <td>music on cd or vinyl &gt; rock music on cd or vin...</td>\n",
       "      <td>music</td>\n",
       "    </tr>\n",
       "    <tr>\n",
       "      <th>3</th>\n",
       "      <td>26</td>\n",
       "      <td>https://www.overstock.com/Books-Movies-Music-G...</td>\n",
       "      <td>Format=Paperback;Copyright Year=2000;Publisher...</td>\n",
       "      <td>books &amp; media &gt; books &gt; cooking &amp; food books &gt;...</td>\n",
       "      <td>books</td>\n",
       "    </tr>\n",
       "    <tr>\n",
       "      <th>4</th>\n",
       "      <td>22</td>\n",
       "      <td>http://www.target.com/p/amore-version-ii/-/A-1...</td>\n",
       "      <td>Store Item Number (DPCI)=244-48-2721;Origin=Ma...</td>\n",
       "      <td>target &gt; movies, music &amp; books &gt; music &gt; class...</td>\n",
       "      <td>music</td>\n",
       "    </tr>\n",
       "  </tbody>\n",
       "</table>\n",
       "</div>"
      ],
      "text/plain": [
       "  storeId                                                url  \\\n",
       "0      23  http://www.walmart.com/ip/best-of-toto%3A-pian...   \n",
       "1     NaN                                                NaN   \n",
       "2      23                https://www.walmart.com/ip/34441317   \n",
       "3      26  https://www.overstock.com/Books-Movies-Music-G...   \n",
       "4      22  http://www.target.com/p/amore-version-ii/-/A-1...   \n",
       "\n",
       "                                additionalAttributes  \\\n",
       "0  Contributed by=Toto;Format=Paperback;Number of...   \n",
       "1                                                NaN   \n",
       "2  Performer=Cult Of Youth;Record Label=Vinyl;1.=...   \n",
       "3  Format=Paperback;Copyright Year=2000;Publisher...   \n",
       "4  Store Item Number (DPCI)=244-48-2721;Origin=Ma...   \n",
       "\n",
       "                                         breadcrumbs  label  \n",
       "0            books > art music & photography > music  books  \n",
       "1  best buy > computers & tablets > computer card...   rest  \n",
       "2  music on cd or vinyl > rock music on cd or vin...  music  \n",
       "3  books & media > books > cooking & food books >...  books  \n",
       "4  target > movies, music & books > music > class...  music  "
      ]
     },
     "execution_count": 2,
     "metadata": {},
     "output_type": "execute_result"
    }
   ],
   "source": [
    "import pandas as pd\n",
    "import numpy as np\n",
    "%matplotlib inline\n",
    "\n",
    "#load the training data\n",
    "training_dataset=pd.read_csv('train.csv')\n",
    "\n",
    "#show first few rows\n",
    "training_dataset.head()"
   ]
  },
  {
   "cell_type": "markdown",
   "metadata": {},
   "source": [
    "## Feature Selection\n",
    "> * It is straing forward that store id, url and additional attribute features (**most of these feautres are NaNs**) don't contribute to predict the lable.\n",
    "> * The feature **breadcrumbs is sufficent to determines lable of the unknown data**.\n",
    "\n",
    "\n",
    "## Data Pre-processing\n",
    "> * Drop all NaN rows of breadcrumbs and lable columns\n",
    "> * Drop all duplicate rows\n",
    "> * Remove all the speacial characters in breadcrumbs (will be taken care during tokenization)"
   ]
  },
  {
   "cell_type": "code",
   "execution_count": 3,
   "metadata": {},
   "outputs": [
    {
     "name": "stdout",
     "output_type": "stream",
     "text": [
      "Original Dataset size :  603201\n",
      "Dataset size after noise removal:  599800\n",
      "Dataset size after duplcate removal:  63126\n"
     ]
    },
    {
     "data": {
      "text/html": [
       "<div>\n",
       "<style>\n",
       "    .dataframe thead tr:only-child th {\n",
       "        text-align: right;\n",
       "    }\n",
       "\n",
       "    .dataframe thead th {\n",
       "        text-align: left;\n",
       "    }\n",
       "\n",
       "    .dataframe tbody tr th {\n",
       "        vertical-align: top;\n",
       "    }\n",
       "</style>\n",
       "<table border=\"1\" class=\"dataframe\">\n",
       "  <thead>\n",
       "    <tr style=\"text-align: right;\">\n",
       "      <th></th>\n",
       "      <th>breadcrumbs</th>\n",
       "      <th>label</th>\n",
       "    </tr>\n",
       "  </thead>\n",
       "  <tbody>\n",
       "    <tr>\n",
       "      <th>0</th>\n",
       "      <td>books &gt; art music &amp; photography &gt; music</td>\n",
       "      <td>books</td>\n",
       "    </tr>\n",
       "    <tr>\n",
       "      <th>1</th>\n",
       "      <td>best buy &gt; computers &amp; tablets &gt; computer card...</td>\n",
       "      <td>rest</td>\n",
       "    </tr>\n",
       "    <tr>\n",
       "      <th>2</th>\n",
       "      <td>music on cd or vinyl &gt; rock music on cd or vin...</td>\n",
       "      <td>music</td>\n",
       "    </tr>\n",
       "    <tr>\n",
       "      <th>3</th>\n",
       "      <td>books &amp; media &gt; books &gt; cooking &amp; food books &gt;...</td>\n",
       "      <td>books</td>\n",
       "    </tr>\n",
       "    <tr>\n",
       "      <th>4</th>\n",
       "      <td>target &gt; movies, music &amp; books &gt; music &gt; class...</td>\n",
       "      <td>music</td>\n",
       "    </tr>\n",
       "  </tbody>\n",
       "</table>\n",
       "</div>"
      ],
      "text/plain": [
       "                                         breadcrumbs  label\n",
       "0            books > art music & photography > music  books\n",
       "1  best buy > computers & tablets > computer card...   rest\n",
       "2  music on cd or vinyl > rock music on cd or vin...  music\n",
       "3  books & media > books > cooking & food books >...  books\n",
       "4  target > movies, music & books > music > class...  music"
      ]
     },
     "execution_count": 3,
     "metadata": {},
     "output_type": "execute_result"
    }
   ],
   "source": [
    "#requuired colums breadcrumbs and lables\n",
    "final_col_list=['breadcrumbs','label']\n",
    "\n",
    "# now training_dataset has only breadcrumbs and lable columms\n",
    "training_dataset=training_dataset[final_col_list]\n",
    "\n",
    "print('Original Dataset size : ',training_dataset.shape[0])\n",
    "\n",
    "# Drop NaN rows, if any\n",
    "training_dataset.dropna(how='any',inplace=True)\n",
    "print('Dataset size after noise removal: ',training_dataset.shape[0])\n",
    "\n",
    "training_dataset.drop_duplicates(inplace=True)\n",
    "print('Dataset size after duplcate removal: ',training_dataset.shape[0])\n",
    "\n",
    "# show the first few rows of cleaned data set\n",
    "training_dataset.head()"
   ]
  },
  {
   "cell_type": "markdown",
   "metadata": {},
   "source": [
    "## Data Exploration\n",
    "> * **Unbalanced dataset**"
   ]
  },
  {
   "cell_type": "code",
   "execution_count": 4,
   "metadata": {},
   "outputs": [
    {
     "data": {
      "text/plain": [
       "<matplotlib.axes._subplots.AxesSubplot at 0x119541240>"
      ]
     },
     "execution_count": 4,
     "metadata": {},
     "output_type": "execute_result"
    },
    {
     "data": {
      "image/png": "[encoded data removed]",
      "text/plain": [
       "<matplotlib.figure.Figure at 0x123a89860>"
      ]
     },
     "metadata": {},
     "output_type": "display_data"
    }
   ],
   "source": [
    "# plot pie chart to visualize the data\n",
    "training_dataset.label.value_counts().plot(kind='pie',figsize=(7,7),autopct='%1.1f',shadow=True,\n",
    "                               title='The Pie Chart Visualization',explode=(0.1,0,0,0),fontsize=15)"
   ]
  },
  {
   "cell_type": "markdown",
   "metadata": {},
   "source": [
    "## Encode Labels"
   ]
  },
  {
   "cell_type": "code",
   "execution_count": 5,
   "metadata": {},
   "outputs": [
    {
     "data": {
      "text/html": [
       "<div>\n",
       "<style>\n",
       "    .dataframe thead tr:only-child th {\n",
       "        text-align: right;\n",
       "    }\n",
       "\n",
       "    .dataframe thead th {\n",
       "        text-align: left;\n",
       "    }\n",
       "\n",
       "    .dataframe tbody tr th {\n",
       "        vertical-align: top;\n",
       "    }\n",
       "</style>\n",
       "<table border=\"1\" class=\"dataframe\">\n",
       "  <thead>\n",
       "    <tr style=\"text-align: right;\">\n",
       "      <th></th>\n",
       "      <th>breadcrumbs</th>\n",
       "      <th>label</th>\n",
       "    </tr>\n",
       "  </thead>\n",
       "  <tbody>\n",
       "    <tr>\n",
       "      <th>0</th>\n",
       "      <td>books &gt; art music &amp; photography &gt; music</td>\n",
       "      <td>0</td>\n",
       "    </tr>\n",
       "    <tr>\n",
       "      <th>1</th>\n",
       "      <td>best buy &gt; computers &amp; tablets &gt; computer card...</td>\n",
       "      <td>2</td>\n",
       "    </tr>\n",
       "    <tr>\n",
       "      <th>2</th>\n",
       "      <td>music on cd or vinyl &gt; rock music on cd or vin...</td>\n",
       "      <td>1</td>\n",
       "    </tr>\n",
       "    <tr>\n",
       "      <th>3</th>\n",
       "      <td>books &amp; media &gt; books &gt; cooking &amp; food books &gt;...</td>\n",
       "      <td>0</td>\n",
       "    </tr>\n",
       "    <tr>\n",
       "      <th>4</th>\n",
       "      <td>target &gt; movies, music &amp; books &gt; music &gt; class...</td>\n",
       "      <td>1</td>\n",
       "    </tr>\n",
       "  </tbody>\n",
       "</table>\n",
       "</div>"
      ],
      "text/plain": [
       "                                         breadcrumbs  label\n",
       "0            books > art music & photography > music      0\n",
       "1  best buy > computers & tablets > computer card...      2\n",
       "2  music on cd or vinyl > rock music on cd or vin...      1\n",
       "3  books & media > books > cooking & food books >...      0\n",
       "4  target > movies, music & books > music > class...      1"
      ]
     },
     "execution_count": 5,
     "metadata": {},
     "output_type": "execute_result"
    }
   ],
   "source": [
    "# Encode or Transform the categorial labels into numrical values\n",
    "from sklearn import preprocessing\n",
    "le = preprocessing.LabelEncoder()\n",
    "le.fit(training_dataset.label)\n",
    "training_dataset.label=le.transform(training_dataset.label) \n",
    "\n",
    "# show first few lines after encoding labels\n",
    "training_dataset.head()"
   ]
  },
  {
   "cell_type": "markdown",
   "metadata": {},
   "source": [
    "## Training and Testing Data Split"
   ]
  },
  {
   "cell_type": "code",
   "execution_count": 6,
   "metadata": {},
   "outputs": [
    {
     "name": "stdout",
     "output_type": "stream",
     "text": [
      "Training set has 50500 samples.\n",
      "Testing set has  12626  samples.\n"
     ]
    }
   ],
   "source": [
    "from sklearn.model_selection import train_test_split\n",
    "\n",
    "#Divide the data into trainign and test sets\n",
    "X_train, X_test, y_train, y_test = train_test_split(training_dataset.breadcrumbs, \n",
    "                                                    training_dataset.label, \n",
    "                                                    test_size = 0.2, \n",
    "                                                    random_state = 0)\n",
    "\n",
    "# Show the results of the split\n",
    "print ('Training set has',X_train.shape[0],'samples.')\n",
    "print (\"Testing set has \",X_test.shape[0],\" samples.\")"
   ]
  },
  {
   "cell_type": "markdown",
   "metadata": {},
   "source": [
    "## Transform the data into Numerical Form\n",
    "> * Construct a Document Term Matrix\n",
    "> * Construct Bag of Words"
   ]
  },
  {
   "cell_type": "code",
   "execution_count": 7,
   "metadata": {
    "collapsed": true
   },
   "outputs": [],
   "source": [
    "from sklearn.feature_extraction.text import CountVectorizer\n",
    "import nltk\n",
    "import string\n",
    "\n",
    "def tokenize(sentence):\n",
    "    sentence=sentence.translate(str.maketrans('','',string.punctuation))\n",
    "    tokens=nltk.word_tokenize(sentence)\n",
    "    return tokens\n",
    "\n",
    "count_vec=CountVectorizer(tokenizer=tokenize)\n",
    "X_train=count_vec.fit_transform(X_train) # traiing data\n",
    "X_test=count_vec.transform(X_test) # test data"
   ]
  },
  {
   "cell_type": "markdown",
   "metadata": {},
   "source": [
    "## Performance Metrics Visualization"
   ]
  },
  {
   "cell_type": "code",
   "execution_count": 7,
   "metadata": {
    "collapsed": true
   },
   "outputs": [],
   "source": [
    "import warnings\n",
    "warnings.filterwarnings(\"ignore\", category = UserWarning, module = \"matplotlib\")\n",
    "from IPython import get_ipython\n",
    "get_ipython().run_line_magic('matplotlib', 'inline')\n",
    "\n",
    "import matplotlib.pyplot as pl\n",
    "import matplotlib.patches as mpatches\n",
    "import numpy as np\n",
    "import pandas as pd\n",
    "from time import time\n",
    "from sklearn.metrics import f1_score, accuracy_score\n",
    "from sklearn.metrics import fbeta_score\n",
    "from sklearn.metrics import accuracy_score\n",
    "\n",
    "def train_predict(learner, sample_size, X_train, y_train, X_test, y_test,verbose): \n",
    "    results = {}\n",
    "    training_start = time()\n",
    "    learner.fit(X_train[:sample_size],y_train[:sample_size])\n",
    "    training_end = time() \n",
    "    results['train_time'] = training_end-training_start\n",
    "    start = time()\n",
    "    predictions_test = learner.predict(X_test)\n",
    "    predictions_train = learner.predict(X_train[:sample_size])\n",
    "    end = time()\n",
    "    results['pred_time'] = end-start\n",
    "    results['acc_train'] = accuracy_score(y_train[:sample_size], predictions_train[:sample_size])\n",
    "    results['acc_test'] = accuracy_score(y_test, predictions_test)\n",
    "    results['f_train'] = fbeta_score(y_train[:sample_size], predictions_train[:sample_size], beta=0.5,average='macro')\n",
    "    results['f_test'] = fbeta_score(y_test, predictions_test, beta=0.5,average='macro')\n",
    "    # Success\n",
    "    if(verbose):\n",
    "        print (\"{} trained on {} samples with accuracy {} and fbeta score {}%\".\n",
    "               format(learner.__class__.__name__, sample_size,(100.0*results['acc_test']),(100.0*results['f_test'])))\n",
    "        #print (results)\n",
    "    return results\n",
    "\n",
    "def evaluate(results):\n",
    "    fig, ax = pl.subplots(2, 3, figsize = (20,8))\n",
    "    bar_width = 0.19\n",
    "    colors = ['#F55826','#00A0A0','#E5B506','#284ABC','#59A857']\n",
    "    for k, learner in enumerate(results.keys()):\n",
    "        for j, metric in enumerate(['train_time', 'acc_train', 'f_train', 'pred_time', 'acc_test', 'f_test']):\n",
    "            for i in np.arange(3):\n",
    "                ax[j//3, j%3].bar(i+k*bar_width, results[learner][i][metric], width = bar_width, color = colors[k])\n",
    "                ax[j//3, j%3].set_xticks([0.45, 1.45, 2.45])\n",
    "                ax[j//3, j%3].set_xticklabels([\"1%\", \"10%\", \"100%\"])\n",
    "                ax[j//3, j%3].set_xlabel(\"Training Set Size\")\n",
    "                ax[j//3, j%3].set_xlim((-0.1, 3.0))\n",
    "    \n",
    "    # Add unique y-labels\n",
    "    ax[0, 0].set_ylabel(\"Time (in seconds)\")\n",
    "    ax[0, 1].set_ylabel(\"Accuracy Score\")\n",
    "    ax[0, 2].set_ylabel(\"F-score\")\n",
    "    ax[1, 0].set_ylabel(\"Time (in seconds)\")\n",
    "    ax[1, 1].set_ylabel(\"Accuracy Score\")\n",
    "    ax[1, 2].set_ylabel(\"F-score\")\n",
    "    \n",
    "    # Add titles\n",
    "    ax[0, 0].set_title(\"Model Training Time\")\n",
    "    ax[0, 1].set_title(\"Accuracy Score on Training Subset\")\n",
    "    ax[0, 2].set_title(\"F-score on Training Subset\")\n",
    "    ax[1, 0].set_title(\"Model Prediction Time\")\n",
    "    ax[1, 1].set_title(\"Accuracy Score on Testing Set\")\n",
    "    ax[1, 2].set_title(\"F-score on Testing Set\")\n",
    "    \n",
    "    # Set y-limits for score panels\n",
    "    ax[0, 1].set_ylim((0, 1))\n",
    "    ax[0, 2].set_ylim((0, 1))\n",
    "    ax[1, 1].set_ylim((0, 1))\n",
    "    ax[1, 2].set_ylim((0, 1))\n",
    "\n",
    "    # Create patches for the legend\n",
    "    patches = []\n",
    "    for i, learner in enumerate(results.keys()):\n",
    "        patches.append(mpatches.Patch(color = colors[i], label = learner))\n",
    "    pl.legend(handles = patches, bbox_to_anchor = (-.80, 2.55), \\\n",
    "               loc = 'upper center', borderaxespad = 0., ncol = 3, fontsize = 'x-large')\n",
    "    \n",
    "    # Aesthetics\n",
    "    pl.suptitle(\"Performance Metrics of Supervised Learning Models\", fontsize = 18, y = 1.10)\n",
    "    pl.tight_layout()\n",
    "    pl.show()\n",
    "    \n",
    "final_results={}\n",
    "def metrics_visualization(clfs,verbose):\n",
    "    results = {}\n",
    "    samples_100 = len(y_train)\n",
    "    samples_10 = int((samples_100*0.1))\n",
    "    samples_1 = int((samples_100*0.01))\n",
    "    for clf in clfs:\n",
    "        clf_name = clf.__class__.__name__\n",
    "        results[clf_name] = {}\n",
    "        final_results[clf_name] = {}\n",
    "        for i, samples in enumerate([samples_1, samples_10, samples_100]):\n",
    "            results[clf_name][i] = \\\n",
    "            train_predict(clf, samples, X_train, y_train, X_test, y_test,verbose)\n",
    "            final_results[clf_name][i]= results[clf_name][i]\n",
    "\n",
    "    evaluate(results)    "
   ]
  },
  {
   "cell_type": "markdown",
   "metadata": {},
   "source": [
    "## Train the model"
   ]
  },
  {
   "cell_type": "code",
   "execution_count": 17,
   "metadata": {
    "scrolled": true
   },
   "outputs": [
    {
     "name": "stdout",
     "output_type": "stream",
     "text": [
      "DecisionTreeClassifier trained on 505 samples with accuracy 95.75479169966735 and fbeta score 96.93308902908835%\n",
      "DecisionTreeClassifier trained on 5050 samples with accuracy 99.36638682084588 and fbeta score 99.29802713370957%\n",
      "DecisionTreeClassifier trained on 50500 samples with accuracy 99.86535719942975 and fbeta score 99.87460142649547%\n",
      "LinearSVC trained on 505 samples with accuracy 97.41802629494694 and fbeta score 97.78882255883185%\n",
      "LinearSVC trained on 5050 samples with accuracy 99.53271028037383 and fbeta score 99.50121231455074%\n",
      "LinearSVC trained on 50500 samples with accuracy 99.87327736416918 and fbeta score 99.87816691132504%\n",
      "RandomForestClassifier trained on 505 samples with accuracy 95.62806906383653 and fbeta score 95.76924785466842%\n",
      "RandomForestClassifier trained on 5050 samples with accuracy 99.3426263266276 and fbeta score 99.30148461333724%\n",
      "RandomForestClassifier trained on 50500 samples with accuracy 99.82575637573261 and fbeta score 99.7103523015595%\n",
      "MultinomialNB trained on 505 samples with accuracy 86.90796768572785 and fbeta score 91.51010171520663%\n",
      "MultinomialNB trained on 5050 samples with accuracy 94.90733407254871 and fbeta score 96.40547724727728%\n",
      "MultinomialNB trained on 50500 samples with accuracy 98.45556787581181 and fbeta score 98.536632767821%\n",
      "SVC trained on 505 samples with accuracy 79.6768572786314 and fbeta score 86.2583526140628%\n",
      "SVC trained on 5050 samples with accuracy 98.47140820529067 and fbeta score 98.74977111089308%\n",
      "SVC trained on 50500 samples with accuracy 99.72279423412007 and fbeta score 99.78066564815286%\n"
     ]
    },
    {
     "data": {
      "image/png": "[encoded data removed]",
      "text/plain": [
       "<matplotlib.figure.Figure at 0x11df75710>"
      ]
     },
     "metadata": {},
     "output_type": "display_data"
    }
   ],
   "source": [
    "import warnings\n",
    "warnings.filterwarnings(\"ignore\", category = UserWarning, module = \"sklearn\")\n",
    "from sklearn.tree import DecisionTreeClassifier\n",
    "from sklearn.svm import LinearSVC, SVC\n",
    "from sklearn.ensemble import RandomForestClassifier\n",
    "from sklearn.naive_bayes import MultinomialNB\n",
    "import math\n",
    "\n",
    "classifiers=[\n",
    "DecisionTreeClassifier(random_state=1),\n",
    "LinearSVC(random_state=1),\n",
    "RandomForestClassifier(random_state=1),\n",
    "MultinomialNB(),\n",
    "SVC(kernel=\"linear\", C=0.025)]\n",
    "\n",
    "metrics_visualization(classifiers[:5],verbose=True)"
   ]
  },
  {
   "cell_type": "markdown",
   "metadata": {},
   "source": [
    "## Model Selection and Hyper Parameter Tuning"
   ]
  },
  {
   "cell_type": "code",
   "execution_count": 15,
   "metadata": {},
   "outputs": [
    {
     "name": "stdout",
     "output_type": "stream",
     "text": [
      "Unoptimized model\n",
      "------\n",
      "Accuracy score on testing data: 0.9987\n",
      "F-score on testing data: 0.9987\n",
      "\n",
      "Optimized Model\n",
      "------\n",
      "Final accuracy score on the testing data: 0.9987\n",
      "Final F-score on the testing data: 0.9987\n",
      "gird search completed\n"
     ]
    }
   ],
   "source": [
    "import warnings\n",
    "warnings.filterwarnings(\"ignore\", category = UserWarning, module = \"sklearn\")\n",
    "from sklearn.grid_search import GridSearchCV\n",
    "from sklearn.metrics import make_scorer\n",
    "from sklearn.tree import DecisionTreeClassifier\n",
    "from sklearn.metrics import f1_score, accuracy_score\n",
    "from sklearn.metrics import fbeta_score\n",
    "from sklearn.metrics import accuracy_score\n",
    "\n",
    "#Initialize the classifier\n",
    "clf = DecisionTreeClassifier(random_state=1)\n",
    "\n",
    "parameters = {\"criterion\": [\"gini\", \"entropy\"],\n",
    "              \"min_samples_split\": [2,3],\n",
    "              \"max_depth\": [None, 2,3,4,5]\n",
    "              }\n",
    "\n",
    "scorer = make_scorer(fbeta_score,beta=0.5,average='macro')\n",
    "grid_obj = GridSearchCV(clf,parameters,scoring=scorer)\n",
    "grid_fit = grid_obj.fit(X_train,y_train)\n",
    "\n",
    "# Get the estimator\n",
    "best_clf = grid_fit.best_estimator_\n",
    "\n",
    "# Make predictions using the unoptimized and model\n",
    "predictions = (clf.fit(X_train, y_train)).predict(X_test)\n",
    "best_predictions = best_clf.predict(X_test)\n",
    "\n",
    "# Report the before-and-afterscores\n",
    "print (\"Unoptimized model\\n------\")\n",
    "print (\"Accuracy score on testing data: {:.4f}\".format(accuracy_score(y_test, predictions)))\n",
    "print (\"F-score on testing data: {:.4f}\".format(fbeta_score(y_test, predictions,beta = 0.5,average='macro')))\n",
    "print (\"\\nOptimized Model\\n------\")\n",
    "print (\"Final accuracy score on the testing data: {:.4f}\".format(accuracy_score(y_test, best_predictions)))\n",
    "print (\"Final F-score on the testing data: {:.4f}\".format(fbeta_score(y_test, best_predictions,beta = 0.5,average='macro')))\n",
    "print('gird search completed')"
   ]
  },
  {
   "cell_type": "markdown",
   "metadata": {},
   "source": [
    "## Best parameters combination for the selected model"
   ]
  },
  {
   "cell_type": "code",
   "execution_count": 16,
   "metadata": {},
   "outputs": [
    {
     "data": {
      "text/plain": [
       "<bound method BaseEstimator.get_params of DecisionTreeClassifier(class_weight=None, criterion='gini', max_depth=None,\n",
       "            max_features=None, max_leaf_nodes=None,\n",
       "            min_impurity_split=1e-07, min_samples_leaf=1,\n",
       "            min_samples_split=2, min_weight_fraction_leaf=0.0,\n",
       "            presort=False, random_state=1, splitter='best')>"
      ]
     },
     "execution_count": 16,
     "metadata": {},
     "output_type": "execute_result"
    }
   ],
   "source": [
    "best_clf.get_params"
   ]
  },
  {
   "cell_type": "markdown",
   "metadata": {},
   "source": [
    "## Predict lables of unknown data"
   ]
  },
  {
   "cell_type": "code",
   "execution_count": 13,
   "metadata": {},
   "outputs": [
    {
     "name": "stdout",
     "output_type": "stream",
     "text": [
      "training the best model started\n",
      "training the best model competed\n",
      "original test dataset size  442041\n",
      "test dataset size after droping NaN  441130\n",
      "transforming testdataset started\n",
      "transforming testdataset competed\n",
      "predicting testdataset started\n",
      "predicting testdataset completed\n",
      "wrote predicted output to the file sucessfully !!!\n"
     ]
    },
    {
     "data": {
      "text/plain": [
       "<matplotlib.axes._subplots.AxesSubplot at 0x139c8cb00>"
      ]
     },
     "execution_count": 13,
     "metadata": {},
     "output_type": "execute_result"
    },
    {
     "data": {
      "image/png": "[encoded data removed]",
      "text/plain": [
       "<matplotlib.figure.Figure at 0x136d90518>"
      ]
     },
     "metadata": {},
     "output_type": "display_data"
    }
   ],
   "source": [
    "from sklearn.tree import DecisionTreeClassifier\n",
    "print('training the best model started')\n",
    "clf = DecisionTreeClassifier(random_state=1)\n",
    "clf.fit(X_train, y_train)\n",
    "print('training the best model competed')\n",
    "\n",
    "test_dataset=pd.read_csv('evaluation.csv')\n",
    "test_dataset.head()\n",
    "print('original test dataset size ', test_dataset.shape[0])\n",
    "test_dataset.dropna(subset=['breadcrumbs'],inplace=True)\n",
    "print('test dataset size after droping NaN ', test_dataset.shape[0])\n",
    "\n",
    "print('transforming testdataset started')\n",
    "testset_tran=count_vec.transform(test_dataset.breadcrumbs)\n",
    "print('transforming testdataset competed')\n",
    "\n",
    "print('predicting testdataset started')\n",
    "predicted_lables=clf.predict(testset_tran)\n",
    "print('predicting testdataset completed')\n",
    "\n",
    "test_dataset['predicted_lables']=le.inverse_transform(predicted_lables)\n",
    "test_dataset.to_csv('predicted_output.csv')\n",
    "print('wrote predicted output to the file sucessfully !!!')\n",
    "\n",
    "test_dataset.predicted_lables.value_counts().plot(kind='pie',figsize=(7,7),autopct='%1.1f',shadow=True,\n",
    "                               title='The Pie Chart Visualization of Predicted Data',explode=(0.1,0,0,0),fontsize=15)"
   ]
  }
 ],
 "metadata": {
  "kernelspec": {
   "display_name": "Python 3",
   "language": "python",
   "name": "python3"
  },
  "language_info": {
   "codemirror_mode": {
    "name": "ipython",
    "version": 3
   },
   "file_extension": ".py",
   "mimetype": "text/x-python",
   "name": "python",
   "nbconvert_exporter": "python",
   "pygments_lexer": "ipython3",
   "version": "3.6.1"
  }
 },
 "nbformat": 4,
 "nbformat_minor": 2
}
